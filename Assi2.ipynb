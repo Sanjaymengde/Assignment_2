{
 "cells": [
  {
   "cell_type": "markdown",
   "id": "72cac55e-8dfb-44a5-9604-c656342cbb02",
   "metadata": {},
   "source": [
    "Q1. Explain why we have to use the Exception class while creating a Custom Exception"
   ]
  },
  {
   "cell_type": "markdown",
   "id": "9927a14e-add6-4d2a-8842-e85f730b753f",
   "metadata": {},
   "source": [
    "In Python, exceptions are objects that are instances of classes, and the base class for all built-in exceptions is the Exception class. When you create a custom exception, you need to define a class that inherits from the Exception class (or one of its subclasses). This is because Python's exception-handling system relies on this inheritance structure to handle errors in a consistent and predictable way."
   ]
  },
  {
   "cell_type": "markdown",
   "id": "37b8d634-7569-4266-af23-b9ed1f33d7fe",
   "metadata": {},
   "source": [
    "Q2. Write a python program to print Python Exception Hierarchy."
   ]
  },
  {
   "cell_type": "code",
   "execution_count": 1,
   "id": "4a61e203-bfc1-4002-816d-ae65248b66b2",
   "metadata": {},
   "outputs": [
    {
     "name": "stdout",
     "output_type": "stream",
     "text": [
      "Python Exception Hierarchy:\n",
      "BaseException\n",
      "    object\n"
     ]
    }
   ],
   "source": [
    "\n",
    "import inspect\n",
    "\n",
    "def print_exception_hierarchy(exception_class, indent=0):\n",
    "    \"\"\"\n",
    "    This function recursively prints the class hierarchy of a given exception class.\n",
    "    \n",
    "    :param exception_class: The exception class to explore.\n",
    "    :param indent: Indentation level for pretty-printing the hierarchy.\n",
    "    \"\"\"\n",
    "    print(\" \" * indent + exception_class.__name__)\n",
    "\n",
    "    \n",
    "    for base_class in exception_class.__bases__:\n",
    "        print_exception_hierarchy(base_class, indent + 4)\n",
    "\n",
    "print(\"Python Exception Hierarchy:\")\n",
    "print_exception_hierarchy(BaseException)\n"
   ]
  },
  {
   "cell_type": "markdown",
   "id": "dbb167c6-eeed-4315-a340-4321c96624b4",
   "metadata": {},
   "source": [
    "Q3. What errors are defined in the ArithmeticError class? Explain any two with an example"
   ]
  },
  {
   "cell_type": "markdown",
   "id": "8ed79fd1-8fd3-4304-be9e-50d99211610d",
   "metadata": {},
   "source": [
    "The ArithmeticError class is a built-in exception class in Python, and it serves as the base class for exceptions related to numeric calculations. It is part of the exceptions module, and all arithmetic-related exceptions inherit from it"
   ]
  },
  {
   "cell_type": "code",
   "execution_count": 2,
   "id": "6edef99a-ebb9-4b9c-a9fe-1310eb430d2a",
   "metadata": {},
   "outputs": [],
   "source": [
    "# Example to raise an OverflowError\n",
    "import math\n",
    "\n",
    "try:\n",
    "    # Trying to calculate the factorial of a large number (greater than the system's limit)\n",
    "    result = math.factorial(1000)  # This could exceed the limits for some systems\n",
    "except OverflowError as e:\n",
    "    print(f\"OverflowError: {e}\")"
   ]
  },
  {
   "cell_type": "markdown",
   "id": "a372092f-ab19-4ef2-8268-9b6538c90b43",
   "metadata": {},
   "source": [
    "Q4. Why LookupError class is used? Explain with an example KeyError and IndexError."
   ]
  },
  {
   "cell_type": "markdown",
   "id": "0ffe29c6-62a1-4baa-a453-05d220496536",
   "metadata": {},
   "source": [
    "The LookupError class is a built-in exception in Python that serves as the base class for exceptions raised when an invalid index or key is used to access a collection, such as a list, dictionary, or tuple"
   ]
  },
  {
   "cell_type": "code",
   "execution_count": 3,
   "id": "33fea54d-584a-4306-9ddd-e6e73fc9d4ec",
   "metadata": {},
   "outputs": [
    {
     "name": "stdout",
     "output_type": "stream",
     "text": [
      "KeyError: 'orange'\n"
     ]
    }
   ],
   "source": [
    "my_dict = {\"apple\": 1, \"banana\": 2, \"cherry\": 3}\n",
    "\n",
    "try:\n",
    "    print(my_dict[\"orange\"]) \n",
    "except KeyError as e:\n",
    "    print(f\"KeyError: {e}\")\n"
   ]
  },
  {
   "cell_type": "markdown",
   "id": "0110145f-7d5e-4cef-ac82-3dc751f7db36",
   "metadata": {},
   "source": [
    "Q5. Explain ImportError. What is ModuleNotFoundError?"
   ]
  },
  {
   "cell_type": "markdown",
   "id": "4de69327-e2e1-4472-8153-86130eeab416",
   "metadata": {},
   "source": [
    "ImportError is a built-in exception in Python that is raised when an import statement fails to load a module or a part of a module (like a function, class, or variable). The error can occur due to various reasons, such as:"
   ]
  },
  {
   "cell_type": "markdown",
   "id": "24095f69-6cea-4e5c-9932-a3e59ab1ba32",
   "metadata": {},
   "source": [
    "ModuleNotFoundError is a subclass of ImportError. It is a more specific exception that is raised when the Python interpreter cannot find the module that you are trying to import. It was introduced in Python 3.6 to distinguish between general ImportError issues and cases where the module simply does not exist or cannot be located in the search path"
   ]
  },
  {
   "cell_type": "markdown",
   "id": "f156cf67-e34f-4b64-82b2-9b5b95ee9a77",
   "metadata": {},
   "source": [
    "Q6. List down some best practices for exception handling in python."
   ]
  },
  {
   "cell_type": "markdown",
   "id": "33a1565f-4052-413d-b945-a1222fa0e14f",
   "metadata": {},
   "source": [
    "Effective exception handling is crucial for building robust and reliable Python applications. By properly managing exceptions, you can ensure that your program behaves predictably, provides useful error messages, and recovers gracefully when unexpected conditions arise.\n",
    "\n",
    "Here are some best practices for exception handling in Python"
   ]
  },
  {
   "cell_type": "code",
   "execution_count": null,
   "id": "80ed1834-fd78-40b0-ad90-58f495aeeeb1",
   "metadata": {},
   "outputs": [],
   "source": []
  }
 ],
 "metadata": {
  "kernelspec": {
   "display_name": "Python 3 (ipykernel)",
   "language": "python",
   "name": "python3"
  },
  "language_info": {
   "codemirror_mode": {
    "name": "ipython",
    "version": 3
   },
   "file_extension": ".py",
   "mimetype": "text/x-python",
   "name": "python",
   "nbconvert_exporter": "python",
   "pygments_lexer": "ipython3",
   "version": "3.13.0"
  }
 },
 "nbformat": 4,
 "nbformat_minor": 5
}
